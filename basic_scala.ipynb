{
 "cells": [
  {
   "cell_type": "code",
   "execution_count": 1,
   "id": "211468f3",
   "metadata": {},
   "outputs": [
    {
     "data": {
      "text/plain": [
       "Intitializing Scala interpreter ..."
      ]
     },
     "metadata": {},
     "output_type": "display_data"
    },
    {
     "data": {
      "text/plain": [
       "Spark Web UI available at http://mirian:4040\n",
       "SparkContext available as 'sc' (version = 3.3.1, master = local[*], app id = local-1692148609179)\n",
       "SparkSession available as 'spark'\n"
      ]
     },
     "metadata": {},
     "output_type": "display_data"
    },
    {
     "name": "stdout",
     "output_type": "stream",
     "text": [
      "Hello, World!\n"
     ]
    }
   ],
   "source": [
    "println(\"Hello, World!\")"
   ]
  },
  {
   "cell_type": "code",
   "execution_count": 2,
   "id": "78073c86",
   "metadata": {},
   "outputs": [
    {
     "name": "stdout",
     "output_type": "stream",
     "text": [
      "1+1= 2\n",
      "1+1= 11 (concat)\n"
     ]
    }
   ],
   "source": [
    "// se não colocar nos parênteses concatena\n",
    "println(\"1+1= \" + (1+1))\n",
    "println(\"1+1= \" + 1+1 +\" (concat)\")"
   ]
  },
  {
   "cell_type": "code",
   "execution_count": 3,
   "id": "35bf7423",
   "metadata": {},
   "outputs": [
    {
     "name": "stdout",
     "output_type": "stream",
     "text": [
      "oiii olar\n"
     ]
    },
    {
     "data": {
      "text/plain": [
       "oi: String = oiii\n"
      ]
     },
     "execution_count": 3,
     "metadata": {},
     "output_type": "execute_result"
    }
   ],
   "source": [
    "val oi: String = \"oiii\"\n",
    "// val são imutáveis, se tentar reatribuir vai dar erro Double definition\n",
    "// val oi = \"oi\"\n",
    "println(s\"${oi} olar\")"
   ]
  },
  {
   "cell_type": "code",
   "execution_count": 85,
   "id": "b32f5c85",
   "metadata": {},
   "outputs": [
    {
     "name": "stdout",
     "output_type": "stream",
     "text": [
      "oiii olar\n"
     ]
    },
    {
     "data": {
      "text/plain": [
       "oi: String = oiii\n"
      ]
     },
     "execution_count": 85,
     "metadata": {},
     "output_type": "execute_result"
    }
   ],
   "source": [
    "val oi: String = \"oiii\"\n",
    "// val são imutáveis, se tentar reatribuir vai dar erro Double definition\n",
    "// val oi = \"oi\"\n",
    "println(s\"$oi olar\")"
   ]
  },
  {
   "cell_type": "code",
   "execution_count": 24,
   "id": "8f3fd3a0",
   "metadata": {},
   "outputs": [
    {
     "name": "stdout",
     "output_type": "stream",
     "text": [
      "42\n"
     ]
    },
    {
     "data": {
      "text/plain": [
       "x: Int = 42\n"
      ]
     },
     "execution_count": 24,
     "metadata": {},
     "output_type": "execute_result"
    }
   ],
   "source": [
    "val x = 42\n",
    "println(x)\n",
    "// tipos de vals são opcionais\n",
    "// quando não coloco, o compilador infere"
   ]
  },
  {
   "cell_type": "code",
   "execution_count": 4,
   "id": "93ab9d89",
   "metadata": {},
   "outputs": [
    {
     "name": "stdout",
     "output_type": "stream",
     "text": [
      "true\n"
     ]
    },
    {
     "data": {
      "text/plain": [
       "teste: Boolean = true\n"
      ]
     },
     "execution_count": 4,
     "metadata": {},
     "output_type": "execute_result"
    }
   ],
   "source": [
    "var teste = true\n",
    "if (!teste){\n",
    "  println(\"false\")\n",
    "} else {\n",
    "  println(\"true\")\n",
    "}"
   ]
  },
  {
   "cell_type": "code",
   "execution_count": 19,
   "id": "fb4285d3",
   "metadata": {},
   "outputs": [
    {
     "name": "stdout",
     "output_type": "stream",
     "text": [
      "(1,true,helllo)\n",
      "(2,false,aaa)\n",
      "t1: 2 \n",
      "t2: false \n",
      "t3: aaa\n"
     ]
    },
    {
     "data": {
      "text/plain": [
       "t: (Int, Boolean, String) = (2,false,aaa)\n",
       "t: (Int, Boolean, String) = (2,false,aaa)\n"
      ]
     },
     "execution_count": 19,
     "metadata": {},
     "output_type": "execute_result"
    }
   ],
   "source": [
    "// os campos em uma tupla são imutáveis e tem valores de tamanho fixo\n",
    "// isso significa que eu posso alterar os valores da tupla desde que se mantenha o tipo\n",
    "// mas não consigo fazer um append\n",
    "var t = (1, true, \"helllo\")\n",
    "println(t)\n",
    "t = (2, false, \"aaa\")\n",
    "println(t)\n",
    "\n",
    "// assim dá erro de type mismatch\n",
    "//  t = (2, false, \"aaa\", 2)\n",
    "println(\n",
    "s\"t1: ${t._1} \\n\" +\n",
    "s\"t2: ${t._2} \\n\" +\n",
    "s\"t3: ${t._3}\"\n",
    ")"
   ]
  },
  {
   "cell_type": "code",
   "execution_count": 16,
   "id": "eb2bc30b",
   "metadata": {},
   "outputs": [
    {
     "name": "stdout",
     "output_type": "stream",
     "text": [
      "1: a \n",
      "2: hello \n",
      "3: true\n"
     ]
    },
    {
     "data": {
      "text/plain": [
       "a: Array[Any] = Array(a, hello, true)\n",
       "a: Array[Any] = [Ljava.lang.Object;@4ae55449\n"
      ]
     },
     "execution_count": 16,
     "metadata": {},
     "output_type": "execute_result"
    }
   ],
   "source": [
    "// Arrays são mutáveis, mas de comprimento fixo\n",
    "var a = Array(5, \"hello\", 1.5)\n",
    "a = Array(\"a\", \"hello\", true)\n",
    "println(\n",
    "s\"1: ${a(0)} \\n\" +\n",
    "s\"2: ${a(1)} \\n\" +\n",
    "s\"3: ${a(2)}\"\n",
    ")\n",
    "\n",
    "// se tentar acessar um índice que não tem no array original dá erro de ArrayIndexOutOfBoundsException\n",
    "// a(5) = 1"
   ]
  },
  {
   "cell_type": "code",
   "execution_count": 7,
   "id": "f9641195",
   "metadata": {},
   "outputs": [
    {
     "name": "stdout",
     "output_type": "stream",
     "text": [
      "Looping 0\n",
      "Looping 1\n",
      "Looping 2\n",
      "Looping 3\n"
     ]
    },
    {
     "data": {
      "text/plain": [
       "total: Int = 6\n"
      ]
     },
     "execution_count": 7,
     "metadata": {},
     "output_type": "execute_result"
    }
   ],
   "source": [
    "var total = 0\n",
    "for (i <- Range(0,4)) {\n",
    "println(\"Looping \" + i)\n",
    "total = total + i\n",
    "}"
   ]
  },
  {
   "cell_type": "code",
   "execution_count": 20,
   "id": "f814d10e",
   "metadata": {},
   "outputs": [
    {
     "name": "stdout",
     "output_type": "stream",
     "text": [
      "a\n",
      "hello\n",
      "true\n"
     ]
    }
   ],
   "source": [
    "a.foreach(println) //legal"
   ]
  },
  {
   "cell_type": "code",
   "execution_count": 9,
   "id": "cc2cc6a4",
   "metadata": {},
   "outputs": [
    {
     "data": {
      "text/plain": [
       "multi: Array[Array[Int]] = Array(Array(1, 2, 3), Array(4, 5, 6))\n"
      ]
     },
     "execution_count": 9,
     "metadata": {},
     "output_type": "execute_result"
    }
   ],
   "source": [
    "val multi = Array(Array(1, 2, 3), Array(4, 5, 6))"
   ]
  },
  {
   "cell_type": "code",
   "execution_count": 10,
   "id": "4fd8ab08",
   "metadata": {},
   "outputs": [
    {
     "name": "stdout",
     "output_type": "stream",
     "text": [
      "1\n",
      "2\n",
      "3\n",
      "4\n",
      "5\n",
      "6\n"
     ]
    }
   ],
   "source": [
    "for (arr <- multi; i <- arr) println(i)"
   ]
  },
  {
   "cell_type": "code",
   "execution_count": 11,
   "id": "658c0243",
   "metadata": {},
   "outputs": [
    {
     "name": "stdout",
     "output_type": "stream",
     "text": [
      "2\n",
      "4\n",
      "6\n"
     ]
    }
   ],
   "source": [
    "for (arr <- multi; i <- arr; if i % 2 == 0) println(i)"
   ]
  },
  {
   "cell_type": "code",
   "execution_count": 12,
   "id": "2aec6cae",
   "metadata": {},
   "outputs": [
    {
     "name": "stdout",
     "output_type": "stream",
     "text": [
      "List(1-a, 1-b, 2-a, 2-b, 3-a, 3-b)\n"
     ]
    },
    {
     "data": {
      "text/plain": [
       "combinedLists: List[String] = List(1-a, 1-b, 2-a, 2-b, 3-a, 3-b)\n"
      ]
     },
     "execution_count": 12,
     "metadata": {},
     "output_type": "execute_result"
    }
   ],
   "source": [
    "val combinedLists = for {\n",
    "  num <- List(1, 2, 3)\n",
    "  char <- List('a', 'b')\n",
    "} yield s\"$num-$char\"\n",
    "println(combinedLists)"
   ]
  },
  {
   "cell_type": "markdown",
   "id": "693d5c4a",
   "metadata": {},
   "source": [
    "### \"Fizzbuzz\" programming challenge\n",
    "Write a short program that prints each number from\n",
    "1 to 50 on a new line.\n",
    "\n",
    "For each multiple of 3, print \"Fizz\" instead of the\n",
    "number.\n",
    "\n",
    "For each multiple of 5, print \"Buzz\" instead of the\n",
    "number.\n",
    "\n",
    "For numbers which are multiples of both 3 and 5,\n",
    "print \"FizzBuzz\" instead of the number"
   ]
  },
  {
   "cell_type": "code",
   "execution_count": 13,
   "id": "a476184d",
   "metadata": {
    "scrolled": true
   },
   "outputs": [
    {
     "name": "stdout",
     "output_type": "stream",
     "text": [
      "1\n",
      "2\n",
      "Fizz\n",
      "4\n",
      "Buzz\n",
      "Fizz\n",
      "7\n",
      "8\n",
      "Fizz\n",
      "Buzz\n",
      "11\n",
      "Fizz\n",
      "13\n",
      "14\n",
      "FizzBuzz\n",
      "16\n",
      "17\n",
      "Fizz\n",
      "19\n",
      "Buzz\n",
      "Fizz\n",
      "22\n",
      "23\n",
      "Fizz\n",
      "Buzz\n",
      "26\n",
      "Fizz\n",
      "28\n",
      "29\n",
      "FizzBuzz\n",
      "31\n",
      "32\n",
      "Fizz\n",
      "34\n",
      "Buzz\n",
      "Fizz\n",
      "37\n",
      "38\n",
      "Fizz\n",
      "Buzz\n",
      "41\n",
      "Fizz\n",
      "43\n",
      "44\n",
      "FizzBuzz\n",
      "46\n",
      "47\n",
      "Fizz\n",
      "49\n",
      "Buzz\n"
     ]
    }
   ],
   "source": [
    "for (i <- Range.inclusive(1,50)) {\n",
    "    if (i % 3 == 0 & i % 5 == 0) println(\"FizzBuzz\")\n",
    "    else if (i % 3 == 0) println(\"Fizz\")\n",
    "    else if (i % 5 == 0) println(\"Buzz\")\n",
    "    else println(i)\n",
    "}"
   ]
  },
  {
   "cell_type": "code",
   "execution_count": 16,
   "id": "27439b2d",
   "metadata": {},
   "outputs": [
    {
     "name": "stdout",
     "output_type": "stream",
     "text": [
      "1\n",
      "2\n",
      "Fizz\n",
      "4\n",
      "Buzz\n",
      "Fizz\n",
      "7\n",
      "8\n",
      "Fizz\n",
      "Buzz\n",
      "11\n",
      "Fizz\n",
      "13\n",
      "14\n",
      "FizzBuzz\n",
      "16\n",
      "17\n",
      "Fizz\n",
      "19\n",
      "Buzz\n",
      "Fizz\n",
      "22\n",
      "23\n",
      "Fizz\n",
      "Buzz\n",
      "26\n",
      "Fizz\n",
      "28\n",
      "29\n",
      "FizzBuzz\n",
      "31\n",
      "32\n",
      "Fizz\n",
      "34\n",
      "Buzz\n",
      "Fizz\n",
      "37\n",
      "38\n",
      "Fizz\n",
      "Buzz\n",
      "41\n",
      "Fizz\n",
      "43\n",
      "44\n",
      "FizzBuzz\n",
      "46\n",
      "47\n",
      "Fizz\n",
      "49\n",
      "Buzz\n"
     ]
    }
   ],
   "source": [
    "for (i <- Range.inclusive(1,50)) {\n",
    "    println(\n",
    "    if (i % 3 == 0 && i % 5 == 0) \"FizzBuzz\"\n",
    "    else if (i % 3 == 0) \"Fizz\"\n",
    "    else if (i % 5 == 0) \"Buzz\"\n",
    "    else i\n",
    "    )\n",
    "}"
   ]
  },
  {
   "cell_type": "markdown",
   "id": "6eddaad8",
   "metadata": {},
   "source": [
    "### Intructions (do) x expressions (value)\n",
    "Instruções são executadas, expressões são avaliadas (e um valor é retornado)"
   ]
  },
  {
   "cell_type": "code",
   "execution_count": 27,
   "id": "fed5915b",
   "metadata": {},
   "outputs": [
    {
     "name": "stdout",
     "output_type": "stream",
     "text": [
      "1"
     ]
    },
    {
     "data": {
      "text/plain": [
       "aCondition: Boolean = true\n",
       "aConditioned: Int = 1\n"
      ]
     },
     "execution_count": 27,
     "metadata": {},
     "output_type": "execute_result"
    }
   ],
   "source": [
    "val aCondition = true\n",
    "val aConditioned = if (aCondition) 1 else 2\n",
    "print(aConditioned)\n",
    "// o if em scala é uma expression\n",
    "// a expression devolve um valor\n",
    "// diferente de python que os ifs verificariam a expressão e atribuiria depois\n",
    "// if aCondition == True:\n",
    "//   aConditioned = 1\n",
    "// else:\n",
    "//   aConditioned = 2\n",
    "// if expression (scala), e não if instruction (python)"
   ]
  },
  {
   "cell_type": "code",
   "execution_count": 29,
   "id": "411e3c0a",
   "metadata": {},
   "outputs": [
    {
     "data": {
      "text/plain": [
       "someValue: Boolean = true\n"
      ]
     },
     "execution_count": 29,
     "metadata": {},
     "output_type": "execute_result"
    }
   ],
   "source": [
    "val someValue = {\n",
    "    2 < 3\n",
    "}\n",
    "// expressão code block pq retorna um boolean"
   ]
  },
  {
   "cell_type": "code",
   "execution_count": 31,
   "id": "fabef05d",
   "metadata": {},
   "outputs": [
    {
     "data": {
      "text/plain": [
       "someOtherValue: Int = 42\n"
      ]
     },
     "execution_count": 31,
     "metadata": {},
     "output_type": "execute_result"
    }
   ],
   "source": [
    "val someOtherValue = {\n",
    "    if(someValue) 239 else 986\n",
    "    42\n",
    "}\n",
    "// retorna a última expressão"
   ]
  },
  {
   "cell_type": "code",
   "execution_count": 32,
   "id": "5cecb585",
   "metadata": {},
   "outputs": [
    {
     "data": {
      "text/plain": [
       "res26: String = hello\n"
      ]
     },
     "execution_count": 32,
     "metadata": {},
     "output_type": "execute_result"
    }
   ],
   "source": [
    "\"hello\"\n",
    "// valor literal do tipo str"
   ]
  },
  {
   "cell_type": "code",
   "execution_count": 33,
   "id": "a744481d",
   "metadata": {},
   "outputs": [
    {
     "name": "stdout",
     "output_type": "stream",
     "text": [
      "hello\n"
     ]
    }
   ],
   "source": [
    "println(\"hello\")\n",
    "// instrução, portanto side effect, portanto, Unity type"
   ]
  },
  {
   "cell_type": "markdown",
   "id": "c5d882a8",
   "metadata": {},
   "source": [
    "### Funções"
   ]
  },
  {
   "cell_type": "code",
   "execution_count": 43,
   "id": "f1d19386",
   "metadata": {},
   "outputs": [
    {
     "data": {
      "text/plain": [
       "hello: (i: Int)String\n"
      ]
     },
     "execution_count": 43,
     "metadata": {},
     "output_type": "execute_result"
    }
   ],
   "source": [
    "def hello (i: Int = 0) = {\n",
    "    \"hello \" + i\n",
    "}"
   ]
  },
  {
   "cell_type": "code",
   "execution_count": 44,
   "id": "801f8368",
   "metadata": {},
   "outputs": [
    {
     "data": {
      "text/plain": [
       "res34: String = hello 2\n"
      ]
     },
     "execution_count": 44,
     "metadata": {},
     "output_type": "execute_result"
    }
   ],
   "source": [
    "hello(2)"
   ]
  },
  {
   "cell_type": "code",
   "execution_count": 45,
   "id": "b04389fb",
   "metadata": {},
   "outputs": [
    {
     "data": {
      "text/plain": [
       "helloHello: String = hello 123 hello 456\n"
      ]
     },
     "execution_count": 45,
     "metadata": {},
     "output_type": "execute_result"
    }
   ],
   "source": [
    "val helloHello = hello(123) + \" \" + hello(456)"
   ]
  },
  {
   "cell_type": "code",
   "execution_count": 46,
   "id": "13116481",
   "metadata": {},
   "outputs": [
    {
     "data": {
      "text/plain": [
       "res35: String = 654 olleh 321 olleh\n"
      ]
     },
     "execution_count": 46,
     "metadata": {},
     "output_type": "execute_result"
    }
   ],
   "source": [
    "helloHello.reverse"
   ]
  },
  {
   "cell_type": "code",
   "execution_count": 47,
   "id": "942fd16d",
   "metadata": {},
   "outputs": [
    {
     "data": {
      "text/plain": [
       "aRepeatedFunction: (aString: String, n: Int)String\n"
      ]
     },
     "execution_count": 47,
     "metadata": {},
     "output_type": "execute_result"
    }
   ],
   "source": [
    "// quando precisar de loops, use recursão\n",
    "// a menos que envolva uma preocupação muito específica com performance\n",
    "def aRepeatedFunction(aString: String, n: Int): String = {\n",
    "    if (n == 1) aString\n",
    "    else aString + aRepeatedFunction(aString, n-1)\n",
    "}\n",
    "// o compilador não consegue descobrir o tipo de uma função recursiva sozinho, precisa passar\n",
    "// se não for recursiva não dá erro, mas é algo recomendado sempre colocar os tipos"
   ]
  },
  {
   "cell_type": "code",
   "execution_count": 49,
   "id": "b59fb7c6",
   "metadata": {},
   "outputs": [
    {
     "name": "stdout",
     "output_type": "stream",
     "text": [
      "hello hello hello \n"
     ]
    }
   ],
   "source": [
    "println(aRepeatedFunction(\"hello \",3))"
   ]
  },
  {
   "cell_type": "code",
   "execution_count": 51,
   "id": "75bddf8b",
   "metadata": {},
   "outputs": [
    {
     "data": {
      "text/plain": [
       "aBigFunction: (n: Int)Int\n"
      ]
     },
     "execution_count": 51,
     "metadata": {},
     "output_type": "execute_result"
    }
   ],
   "source": [
    "def aBigFunction(n: Int): Int = {\n",
    "    def aSmallFunction(a: Int, b: Int): Int = a + b\n",
    "    aSmallFunction(n, n-1)\n",
    "}"
   ]
  },
  {
   "cell_type": "code",
   "execution_count": 52,
   "id": "8f995150",
   "metadata": {},
   "outputs": [
    {
     "data": {
      "text/plain": [
       "res39: Int = 3\n"
      ]
     },
     "execution_count": 52,
     "metadata": {},
     "output_type": "execute_result"
    }
   ],
   "source": [
    "aBigFunction(2)"
   ]
  },
  {
   "cell_type": "code",
   "execution_count": 70,
   "id": "204b1738",
   "metadata": {},
   "outputs": [
    {
     "data": {
      "text/plain": [
       "aGreetingFunction: (name: String, age: Int)Unit\n"
      ]
     },
     "execution_count": 70,
     "metadata": {},
     "output_type": "execute_result"
    }
   ],
   "source": [
    "def aGreetingFunction(name: String, age: Int) = {  \n",
    "    println(\"Hi, my name is \" + name + \" and I am \" + age + \" years old\")\n",
    "}"
   ]
  },
  {
   "cell_type": "code",
   "execution_count": 71,
   "id": "3fcbd087",
   "metadata": {},
   "outputs": [
    {
     "name": "stdout",
     "output_type": "stream",
     "text": [
      "Hi, my name is aaa and I am 12 years old\n"
     ]
    }
   ],
   "source": [
    "aGreetingFunction(\"aaa\",12)"
   ]
  },
  {
   "cell_type": "code",
   "execution_count": 72,
   "id": "cbb5b0ad",
   "metadata": {},
   "outputs": [
    {
     "data": {
      "text/plain": [
       "factorial: (n: Int)Int\n"
      ]
     },
     "execution_count": 72,
     "metadata": {},
     "output_type": "execute_result"
    }
   ],
   "source": [
    "def factorial (n: Int): Int =\n",
    "    if (n <= 0) 1 \n",
    "    else n * factorial (n-1)"
   ]
  },
  {
   "cell_type": "code",
   "execution_count": 73,
   "id": "c7bcc8a9",
   "metadata": {
    "scrolled": true
   },
   "outputs": [
    {
     "name": "stdout",
     "output_type": "stream",
     "text": [
      "120\n"
     ]
    }
   ],
   "source": [
    "println(factorial(5))"
   ]
  },
  {
   "cell_type": "code",
   "execution_count": 74,
   "id": "7bef99ba",
   "metadata": {},
   "outputs": [
    {
     "data": {
      "text/plain": [
       "fibonacci: (n: Int)Int\n"
      ]
     },
     "execution_count": 74,
     "metadata": {},
     "output_type": "execute_result"
    }
   ],
   "source": [
    "def fibonacci(n: Int): Int = \n",
    "    if(n <= 2) 1\n",
    "    else fibonacci(n-1) + fibonacci(n-2)"
   ]
  },
  {
   "cell_type": "code",
   "execution_count": 75,
   "id": "d42eb50a",
   "metadata": {},
   "outputs": [
    {
     "name": "stdout",
     "output_type": "stream",
     "text": [
      "21\n"
     ]
    }
   ],
   "source": [
    "println(fibonacci(8))"
   ]
  },
  {
   "cell_type": "code",
   "execution_count": 76,
   "id": "64b2d8ae",
   "metadata": {},
   "outputs": [
    {
     "data": {
      "text/plain": [
       "isPrime: (n: Int)Boolean\n"
      ]
     },
     "execution_count": 76,
     "metadata": {},
     "output_type": "execute_result"
    }
   ],
   "source": [
    "def isPrime(n: Int): Boolean = {\n",
    "    def isPrimeUntil(t: Int): Boolean = \n",
    "        if (t <= 1) true\n",
    "        else n % t != 0 && isPrimeUntil(t-1)\n",
    "    isPrimeUntil(n/2)\n",
    "}"
   ]
  },
  {
   "cell_type": "code",
   "execution_count": 83,
   "id": "cee4938f",
   "metadata": {},
   "outputs": [
    {
     "name": "stdout",
     "output_type": "stream",
     "text": [
      "true\n"
     ]
    }
   ],
   "source": [
    "println(isPrime(7))"
   ]
  },
  {
   "cell_type": "code",
   "execution_count": 84,
   "id": "7cd96f92",
   "metadata": {},
   "outputs": [
    {
     "name": "stdout",
     "output_type": "stream",
     "text": [
      "false\n"
     ]
    }
   ],
   "source": [
    "println(isPrime(10))"
   ]
  },
  {
   "cell_type": "code",
   "execution_count": null,
   "id": "6a701c92",
   "metadata": {},
   "outputs": [],
   "source": []
  },
  {
   "cell_type": "code",
   "execution_count": null,
   "id": "ec497de0",
   "metadata": {},
   "outputs": [],
   "source": []
  }
 ],
 "metadata": {
  "kernelspec": {
   "display_name": "spylon-kernel",
   "language": "scala",
   "name": "spylon-kernel"
  },
  "language_info": {
   "codemirror_mode": "text/x-scala",
   "file_extension": ".scala",
   "help_links": [
    {
     "text": "MetaKernel Magics",
     "url": "https://metakernel.readthedocs.io/en/latest/source/README.html"
    }
   ],
   "mimetype": "text/x-scala",
   "name": "scala",
   "pygments_lexer": "scala",
   "version": "0.4.1"
  }
 },
 "nbformat": 4,
 "nbformat_minor": 5
}
